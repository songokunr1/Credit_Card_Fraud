{
 "cells": [
  {
   "cell_type": "markdown",
   "metadata": {},
   "source": [
    "# Wykrywanie fraudów"
   ]
  },
  {
   "cell_type": "markdown",
   "metadata": {},
   "source": [
    "## Podstawowe biblioteki i ładowanie danych"
   ]
  },
  {
   "cell_type": "code",
   "execution_count": 1,
   "metadata": {},
   "outputs": [],
   "source": [
    "import numpy as np\n",
    "import pandas as pd\n",
    "import csv\n",
    "import xgboost as xgb\n",
    "from xgboost.sklearn import XGBClassifier\n",
    "from sklearn.model_selection import train_test_split\n",
    "from sklearn.preprocessing import StandardScaler\n",
    "from sklearn import metrics\n",
    "from sklearn.model_selection import GridSearchCV\n",
    "from sklearn.metrics import precision_recall_curve\n",
    "from sklearn.metrics import average_precision_score"
   ]
  },
  {
   "cell_type": "code",
   "execution_count": 125,
   "metadata": {},
   "outputs": [],
   "source": [
    "#Wczytujemy dobre dane\n",
    "df = pd.read_csv(\"data.csv\")"
   ]
  },
  {
   "cell_type": "code",
   "execution_count": 3,
   "metadata": {},
   "outputs": [
    {
     "data": {
      "text/html": [
       "<div>\n",
       "<style scoped>\n",
       "    .dataframe tbody tr th:only-of-type {\n",
       "        vertical-align: middle;\n",
       "    }\n",
       "\n",
       "    .dataframe tbody tr th {\n",
       "        vertical-align: top;\n",
       "    }\n",
       "\n",
       "    .dataframe thead th {\n",
       "        text-align: right;\n",
       "    }\n",
       "</style>\n",
       "<table border=\"1\" class=\"dataframe\">\n",
       "  <thead>\n",
       "    <tr style=\"text-align: right;\">\n",
       "      <th></th>\n",
       "      <th>Time</th>\n",
       "      <th>V1</th>\n",
       "      <th>V2</th>\n",
       "      <th>V3</th>\n",
       "      <th>V4</th>\n",
       "      <th>V5</th>\n",
       "      <th>V6</th>\n",
       "      <th>V7</th>\n",
       "      <th>V8</th>\n",
       "      <th>V9</th>\n",
       "      <th>...</th>\n",
       "      <th>V21</th>\n",
       "      <th>V22</th>\n",
       "      <th>V23</th>\n",
       "      <th>V24</th>\n",
       "      <th>V25</th>\n",
       "      <th>V26</th>\n",
       "      <th>V27</th>\n",
       "      <th>V28</th>\n",
       "      <th>Amount</th>\n",
       "      <th>Class</th>\n",
       "    </tr>\n",
       "  </thead>\n",
       "  <tbody>\n",
       "    <tr>\n",
       "      <th>0</th>\n",
       "      <td>127614.0</td>\n",
       "      <td>2.004188</td>\n",
       "      <td>-0.287498</td>\n",
       "      <td>-1.984934</td>\n",
       "      <td>0.342239</td>\n",
       "      <td>0.413188</td>\n",
       "      <td>-0.815346</td>\n",
       "      <td>0.445456</td>\n",
       "      <td>-0.299258</td>\n",
       "      <td>0.562445</td>\n",
       "      <td>...</td>\n",
       "      <td>-0.038661</td>\n",
       "      <td>-0.127194</td>\n",
       "      <td>0.036464</td>\n",
       "      <td>0.504076</td>\n",
       "      <td>0.176423</td>\n",
       "      <td>0.541252</td>\n",
       "      <td>-0.121212</td>\n",
       "      <td>-0.064948</td>\n",
       "      <td>64.99</td>\n",
       "      <td>0</td>\n",
       "    </tr>\n",
       "    <tr>\n",
       "      <th>1</th>\n",
       "      <td>139389.0</td>\n",
       "      <td>2.346905</td>\n",
       "      <td>-1.264915</td>\n",
       "      <td>-1.034900</td>\n",
       "      <td>-1.568721</td>\n",
       "      <td>-1.122435</td>\n",
       "      <td>-0.790624</td>\n",
       "      <td>-1.011732</td>\n",
       "      <td>-0.268243</td>\n",
       "      <td>-1.229191</td>\n",
       "      <td>...</td>\n",
       "      <td>-0.196288</td>\n",
       "      <td>0.015015</td>\n",
       "      <td>0.197023</td>\n",
       "      <td>-0.432445</td>\n",
       "      <td>-0.119139</td>\n",
       "      <td>-0.131627</td>\n",
       "      <td>0.015176</td>\n",
       "      <td>-0.058104</td>\n",
       "      <td>1.00</td>\n",
       "      <td>0</td>\n",
       "    </tr>\n",
       "    <tr>\n",
       "      <th>2</th>\n",
       "      <td>68482.0</td>\n",
       "      <td>-3.089671</td>\n",
       "      <td>2.464689</td>\n",
       "      <td>0.042745</td>\n",
       "      <td>1.670674</td>\n",
       "      <td>-2.129076</td>\n",
       "      <td>0.600262</td>\n",
       "      <td>-1.627286</td>\n",
       "      <td>2.452801</td>\n",
       "      <td>0.319063</td>\n",
       "      <td>...</td>\n",
       "      <td>-0.223384</td>\n",
       "      <td>-0.441265</td>\n",
       "      <td>0.250283</td>\n",
       "      <td>0.091483</td>\n",
       "      <td>-0.038373</td>\n",
       "      <td>-0.410096</td>\n",
       "      <td>0.088944</td>\n",
       "      <td>0.026973</td>\n",
       "      <td>30.70</td>\n",
       "      <td>0</td>\n",
       "    </tr>\n",
       "    <tr>\n",
       "      <th>3</th>\n",
       "      <td>123677.0</td>\n",
       "      <td>1.792358</td>\n",
       "      <td>-0.384458</td>\n",
       "      <td>-2.170063</td>\n",
       "      <td>0.096243</td>\n",
       "      <td>0.291162</td>\n",
       "      <td>-1.510182</td>\n",
       "      <td>0.921037</td>\n",
       "      <td>-0.525263</td>\n",
       "      <td>-0.088484</td>\n",
       "      <td>...</td>\n",
       "      <td>0.297749</td>\n",
       "      <td>0.633531</td>\n",
       "      <td>-0.176001</td>\n",
       "      <td>0.146116</td>\n",
       "      <td>0.342753</td>\n",
       "      <td>0.198887</td>\n",
       "      <td>-0.117734</td>\n",
       "      <td>-0.061706</td>\n",
       "      <td>154.09</td>\n",
       "      <td>0</td>\n",
       "    </tr>\n",
       "    <tr>\n",
       "      <th>4</th>\n",
       "      <td>121222.0</td>\n",
       "      <td>2.188008</td>\n",
       "      <td>-0.400212</td>\n",
       "      <td>-1.627908</td>\n",
       "      <td>-0.225692</td>\n",
       "      <td>-0.133549</td>\n",
       "      <td>-1.273351</td>\n",
       "      <td>0.226144</td>\n",
       "      <td>-0.553975</td>\n",
       "      <td>-0.908684</td>\n",
       "      <td>...</td>\n",
       "      <td>-0.338599</td>\n",
       "      <td>-0.220436</td>\n",
       "      <td>0.112804</td>\n",
       "      <td>0.049313</td>\n",
       "      <td>0.157236</td>\n",
       "      <td>0.606729</td>\n",
       "      <td>-0.063450</td>\n",
       "      <td>-0.071105</td>\n",
       "      <td>10.00</td>\n",
       "      <td>0</td>\n",
       "    </tr>\n",
       "  </tbody>\n",
       "</table>\n",
       "<p>5 rows × 31 columns</p>\n",
       "</div>"
      ],
      "text/plain": [
       "       Time        V1        V2        V3        V4        V5        V6  \\\n",
       "0  127614.0  2.004188 -0.287498 -1.984934  0.342239  0.413188 -0.815346   \n",
       "1  139389.0  2.346905 -1.264915 -1.034900 -1.568721 -1.122435 -0.790624   \n",
       "2   68482.0 -3.089671  2.464689  0.042745  1.670674 -2.129076  0.600262   \n",
       "3  123677.0  1.792358 -0.384458 -2.170063  0.096243  0.291162 -1.510182   \n",
       "4  121222.0  2.188008 -0.400212 -1.627908 -0.225692 -0.133549 -1.273351   \n",
       "\n",
       "         V7        V8        V9  ...       V21       V22       V23       V24  \\\n",
       "0  0.445456 -0.299258  0.562445  ... -0.038661 -0.127194  0.036464  0.504076   \n",
       "1 -1.011732 -0.268243 -1.229191  ... -0.196288  0.015015  0.197023 -0.432445   \n",
       "2 -1.627286  2.452801  0.319063  ... -0.223384 -0.441265  0.250283  0.091483   \n",
       "3  0.921037 -0.525263 -0.088484  ...  0.297749  0.633531 -0.176001  0.146116   \n",
       "4  0.226144 -0.553975 -0.908684  ... -0.338599 -0.220436  0.112804  0.049313   \n",
       "\n",
       "        V25       V26       V27       V28  Amount  Class  \n",
       "0  0.176423  0.541252 -0.121212 -0.064948   64.99      0  \n",
       "1 -0.119139 -0.131627  0.015176 -0.058104    1.00      0  \n",
       "2 -0.038373 -0.410096  0.088944  0.026973   30.70      0  \n",
       "3  0.342753  0.198887 -0.117734 -0.061706  154.09      0  \n",
       "4  0.157236  0.606729 -0.063450 -0.071105   10.00      0  \n",
       "\n",
       "[5 rows x 31 columns]"
      ]
     },
     "execution_count": 3,
     "metadata": {},
     "output_type": "execute_result"
    }
   ],
   "source": [
    "df.head()"
   ]
  },
  {
   "cell_type": "code",
   "execution_count": 4,
   "metadata": {},
   "outputs": [],
   "source": [
    "#feature selection based on EDA on other file\n",
    "df_thick = df.drop(columns=['V5', 'V6', 'V8', 'V13', 'V15', 'V15', 'V20','V21','V22','V23','V24','V25', 'V26','V27','V28'])"
   ]
  },
  {
   "cell_type": "code",
   "execution_count": 5,
   "metadata": {},
   "outputs": [],
   "source": [
    "X = df.drop(columns = 'Class')\n",
    "y = df['Class']\n",
    "x_t = df_thick.drop(columns= 'Class')"
   ]
  },
  {
   "cell_type": "markdown",
   "metadata": {},
   "source": [
    "## Model XGBoost"
   ]
  },
  {
   "cell_type": "code",
   "execution_count": 6,
   "metadata": {},
   "outputs": [],
   "source": [
    "#Podział na zbiór uczacy i testowy\n",
    "X_train, X_test, y_train, y_test = train_test_split(X, y, test_size=0.25, random_state=1279)\n",
    "X_t_train, X_t_test, y_train, y_test = train_test_split(x_t, y, test_size=0.25, random_state=1279)"
   ]
  },
  {
   "cell_type": "code",
   "execution_count": 7,
   "metadata": {},
   "outputs": [
    {
     "name": "stderr",
     "output_type": "stream",
     "text": [
      "/home/arkadiusz/anaconda3/lib/python3.7/site-packages/xgboost/core.py:587: FutureWarning: Series.base is deprecated and will be removed in a future version\n",
      "  if getattr(data, 'base', None) is not None and \\\n"
     ]
    }
   ],
   "source": [
    "#Do XGBoosta, wymaga Dmatrix do treningu\n",
    "xgb_train = xgb.DMatrix(X_train, label=y_train)\n",
    "xgb_train_t = xgb.DMatrix(X_t_train, label = y_train)\n",
    "xgb_test = xgb.DMatrix(X_test, label = y_test)\n",
    "xgb_test_t = xgb.DMatrix(X_t_test, label =y_test)"
   ]
  },
  {
   "cell_type": "code",
   "execution_count": 98,
   "metadata": {},
   "outputs": [],
   "source": [
    "#Ustawiamy parametry losowo\n",
    "params = {\n",
    "    'eta': 0.3,\n",
    "    'max_depth': 7,\n",
    "    'objectice': 'binary:logistic',\n",
    "    'eval_metric': 'aucpr',\n",
    "    'scale_pos_weight': 10,\n",
    "}\n",
    "evallist = [(xgb_test, 'eval'), (xgb_train, 'train')]"
   ]
  },
  {
   "cell_type": "code",
   "execution_count": 101,
   "metadata": {},
   "outputs": [
    {
     "name": "stdout",
     "output_type": "stream",
     "text": [
      "[0]\teval-aucpr:0.732611\ttrain-aucpr:0.864914\n",
      "[1]\teval-aucpr:0.758561\ttrain-aucpr:0.874183\n",
      "[2]\teval-aucpr:0.76063\ttrain-aucpr:0.893356\n",
      "[3]\teval-aucpr:0.784341\ttrain-aucpr:0.909237\n",
      "[4]\teval-aucpr:0.784799\ttrain-aucpr:0.924271\n",
      "[5]\teval-aucpr:0.7852\ttrain-aucpr:0.930419\n",
      "[6]\teval-aucpr:0.785627\ttrain-aucpr:0.938798\n",
      "[7]\teval-aucpr:0.790592\ttrain-aucpr:0.940695\n",
      "[8]\teval-aucpr:0.789856\ttrain-aucpr:0.943571\n",
      "[9]\teval-aucpr:0.790892\ttrain-aucpr:0.950527\n",
      "[10]\teval-aucpr:0.800599\ttrain-aucpr:0.955976\n",
      "[11]\teval-aucpr:0.799327\ttrain-aucpr:0.96033\n",
      "[12]\teval-aucpr:0.795983\ttrain-aucpr:0.967886\n",
      "[13]\teval-aucpr:0.792223\ttrain-aucpr:0.977094\n",
      "[14]\teval-aucpr:0.791726\ttrain-aucpr:0.978801\n"
     ]
    }
   ],
   "source": [
    "#trenujemy przykładowy model\n",
    "num_round = 15\n",
    "model = xgb.train(params, xgb_train, num_round, evallist)"
   ]
  },
  {
   "cell_type": "code",
   "execution_count": 117,
   "metadata": {},
   "outputs": [
    {
     "data": {
      "text/plain": [
       "GridSearchCV(cv=7, error_score='raise-deprecating',\n",
       "             estimator=XGBClassifier(base_score=0.5, booster='gbtree',\n",
       "                                     colsample_bylevel=1, colsample_bynode=1,\n",
       "                                     colsample_bytree=1, gamma=0,\n",
       "                                     learning_rate=0.1, max_delta_step=0,\n",
       "                                     max_depth=3, min_child_weight=1,\n",
       "                                     missing=None, n_estimators=100, n_jobs=1,\n",
       "                                     nthread=None, objective='binary:logistic',\n",
       "                                     random_state=0, reg_alpha=0, reg_l...\n",
       "                                     scale_pos_weight=1, seed=None, silent=None,\n",
       "                                     subsample=1, verbosity=1),\n",
       "             iid='warn', n_jobs=None,\n",
       "             param_grid={'learning_rate': [0.1, 0.2, 0.3],\n",
       "                         'max_depth': array([5, 6, 7, 8, 9]),\n",
       "                         'n_estimators': [10, 20, 30, 40],\n",
       "                         'objectice': ['binary:logistic'],\n",
       "                         'scale_pos_weight': [1, 10, 20],\n",
       "                         'subsample': [0.7, 0.8, 0.9, 1]},\n",
       "             pre_dispatch='2*n_jobs', refit=True, return_train_score=False,\n",
       "             scoring='average_precision', verbose=0)"
      ]
     },
     "execution_count": 117,
     "metadata": {},
     "output_type": "execute_result"
    }
   ],
   "source": [
    "#przeszukujemy przestrzeń parametrów w celu znalezienie najlepszej kombinacji\n",
    "param_to_tune = {\n",
    "    \"learning_rate\":[0.1, 0.2, 0.3],\n",
    "    \"max_depth\": np.arange(5,10),\n",
    "    \"scale_pos_weight\": [1, 10, 20],\n",
    "    'objectice': ['binary:logistic'],\n",
    "    'n_estimators': [10,20, 30, 40],\n",
    "    'subsample': [0.7, 0.8, 0.9, 1]\n",
    "        }\n",
    "modelGD = xgb.XGBClassifier()\n",
    "grid = GridSearchCV(modelGD, param_to_tune, cv = 7, scoring= 'average_precision')\n",
    "grid.fit(X_train, y_train, eval_metric = 'aucpr')\n"
   ]
  },
  {
   "cell_type": "code",
   "execution_count": 118,
   "metadata": {},
   "outputs": [
    {
     "name": "stdout",
     "output_type": "stream",
     "text": [
      "XGBClassifier(base_score=0.5, booster='gbtree', colsample_bylevel=1,\n",
      "              colsample_bynode=1, colsample_bytree=1, gamma=0,\n",
      "              learning_rate=0.3, max_delta_step=0, max_depth=9,\n",
      "              min_child_weight=1, missing=None, n_estimators=40, n_jobs=1,\n",
      "              nthread=None, objectice='binary:logistic',\n",
      "              objective='binary:logistic', random_state=0, reg_alpha=0,\n",
      "              reg_lambda=1, scale_pos_weight=1, seed=None, silent=None,\n",
      "              subsample=0.7, verbosity=1)\n"
     ]
    }
   ],
   "source": [
    "#Podglądamy rezultat\n",
    "best = grid.best_estimator_\n",
    "print(best)"
   ]
  },
  {
   "cell_type": "code",
   "execution_count": 119,
   "metadata": {},
   "outputs": [
    {
     "name": "stdout",
     "output_type": "stream",
     "text": [
      "0.855379709943619\n"
     ]
    }
   ],
   "source": [
    "#rezultat może być zanliżony, przez to że nie zwraca prawdopodobieństwa domyślnie\n",
    "best_score = grid.best_score_\n",
    "print(best_score)"
   ]
  },
  {
   "cell_type": "code",
   "execution_count": 124,
   "metadata": {},
   "outputs": [],
   "source": [
    "#zapisujemy\n",
    "best.save_model(\"best_model_full_data\")"
   ]
  },
  {
   "cell_type": "code",
   "execution_count": 120,
   "metadata": {},
   "outputs": [],
   "source": [
    "#predykujemy na testowym\n",
    "y_pred = best.predict_proba(X_test)[:, 1]"
   ]
  },
  {
   "cell_type": "code",
   "execution_count": 121,
   "metadata": {},
   "outputs": [
    {
     "data": {
      "text/plain": [
       "0.8162356090559539"
      ]
     },
     "execution_count": 121,
     "metadata": {},
     "output_type": "execute_result"
    }
   ],
   "source": [
    "average_precision_score(y_test, y_pred)"
   ]
  },
  {
   "cell_type": "code",
   "execution_count": 122,
   "metadata": {},
   "outputs": [],
   "source": [
    "#porównanie: model bez zoptymalizowanych parametrów\n",
    "model_pred = model.predict(xgb_test)"
   ]
  },
  {
   "cell_type": "code",
   "execution_count": 123,
   "metadata": {},
   "outputs": [
    {
     "data": {
      "text/plain": [
       "0.7901594880145533"
      ]
     },
     "execution_count": 123,
     "metadata": {},
     "output_type": "execute_result"
    }
   ],
   "source": [
    "average_precision_score(y_test, model_pred)"
   ]
  },
  {
   "cell_type": "code",
   "execution_count": 126,
   "metadata": {},
   "outputs": [
    {
     "data": {
      "text/plain": [
       "GridSearchCV(cv=7, error_score='raise-deprecating',\n",
       "             estimator=XGBClassifier(base_score=0.5, booster='gbtree',\n",
       "                                     colsample_bylevel=1, colsample_bynode=1,\n",
       "                                     colsample_bytree=1, gamma=0,\n",
       "                                     learning_rate=0.1, max_delta_step=0,\n",
       "                                     max_depth=3, min_child_weight=1,\n",
       "                                     missing=None, n_estimators=100, n_jobs=1,\n",
       "                                     nthread=None, objective='binary:logistic',\n",
       "                                     random_state=0, reg_alpha=0, reg_l...\n",
       "                                     scale_pos_weight=1, seed=None, silent=None,\n",
       "                                     subsample=1, verbosity=1),\n",
       "             iid='warn', n_jobs=None,\n",
       "             param_grid={'learning_rate': [0.1, 0.2, 0.3],\n",
       "                         'max_depth': array([5, 6, 7, 8, 9]),\n",
       "                         'n_estimators': [10, 20, 30, 40],\n",
       "                         'objectice': ['binary:logistic'],\n",
       "                         'scale_pos_weight': [1, 10, 20],\n",
       "                         'subsample': [0.7, 0.8, 0.9, 1]},\n",
       "             pre_dispatch='2*n_jobs', refit=True, return_train_score=False,\n",
       "             scoring='average_precision', verbose=0)"
      ]
     },
     "execution_count": 126,
     "metadata": {},
     "output_type": "execute_result"
    }
   ],
   "source": [
    "param_to_tune = {\n",
    "    \"learning_rate\":[0.1, 0.2, 0.3],\n",
    "    \"max_depth\": np.arange(5,10),\n",
    "    \"scale_pos_weight\": [1, 10, 20],\n",
    "    'objectice': ['binary:logistic'],\n",
    "    'n_estimators': [10,20, 30, 40],\n",
    "    'subsample': [0.7, 0.8, 0.9, 1]\n",
    "        }\n",
    "modelGD = xgb.XGBClassifier()\n",
    "grid = GridSearchCV(modelGD, param_to_tune, cv = 7, scoring= 'average_precision')\n",
    "grid.fit(X_t_train, y_train, eval_metric = 'aucpr')\n"
   ]
  },
  {
   "cell_type": "code",
   "execution_count": 127,
   "metadata": {},
   "outputs": [
    {
     "name": "stdout",
     "output_type": "stream",
     "text": [
      "XGBClassifier(base_score=0.5, booster='gbtree', colsample_bylevel=1,\n",
      "              colsample_bynode=1, colsample_bytree=1, gamma=0,\n",
      "              learning_rate=0.3, max_delta_step=0, max_depth=8,\n",
      "              min_child_weight=1, missing=None, n_estimators=40, n_jobs=1,\n",
      "              nthread=None, objectice='binary:logistic',\n",
      "              objective='binary:logistic', random_state=0, reg_alpha=0,\n",
      "              reg_lambda=1, scale_pos_weight=20, seed=None, silent=None,\n",
      "              subsample=0.7, verbosity=1)\n"
     ]
    }
   ],
   "source": [
    "other_best = grid.best_estimator_\n",
    "print(other_best)"
   ]
  },
  {
   "cell_type": "code",
   "execution_count": 128,
   "metadata": {},
   "outputs": [
    {
     "data": {
      "text/plain": [
       "0.8116030821350344"
      ]
     },
     "execution_count": 128,
     "metadata": {},
     "output_type": "execute_result"
    }
   ],
   "source": [
    "y_other_pred = other_best.predict_proba(X_t_test)[:, 1]\n",
    "average_precision_score(y_test, y_other_pred)"
   ]
  },
  {
   "cell_type": "code",
   "execution_count": 131,
   "metadata": {},
   "outputs": [],
   "source": [
    "other_best.save_model(\"bm_filter_data\")"
   ]
  },
  {
   "cell_type": "code",
   "execution_count": null,
   "metadata": {},
   "outputs": [],
   "source": []
  }
 ],
 "metadata": {
  "kernelspec": {
   "display_name": "Python 3",
   "language": "python",
   "name": "python3"
  },
  "language_info": {
   "codemirror_mode": {
    "name": "ipython",
    "version": 3
   },
   "file_extension": ".py",
   "mimetype": "text/x-python",
   "name": "python",
   "nbconvert_exporter": "python",
   "pygments_lexer": "ipython3",
   "version": "3.7.3"
  }
 },
 "nbformat": 4,
 "nbformat_minor": 2
}
